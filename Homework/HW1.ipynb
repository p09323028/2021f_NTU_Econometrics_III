{
  "nbformat": 4,
  "nbformat_minor": 0,
  "metadata": {
    "colab": {
      "name": "HW1.ipynb",
      "provenance": [],
      "collapsed_sections": [],
      "authorship_tag": "ABX9TyMFJVH+95EP9j18VWMp76yM",
      "include_colab_link": true
    },
    "kernelspec": {
      "name": "python3",
      "display_name": "Python 3"
    },
    "language_info": {
      "name": "python"
    }
  },
  "cells": [
    {
      "cell_type": "markdown",
      "metadata": {
        "id": "view-in-github",
        "colab_type": "text"
      },
      "source": [
        "<a href=\"https://colab.research.google.com/github/p09323028/2021f_NTU_Econometrics_III/blob/main/Homework/HW1.ipynb\" target=\"_parent\"><img src=\"https://colab.research.google.com/assets/colab-badge.svg\" alt=\"Open In Colab\"/></a>"
      ]
    },
    {
      "cell_type": "markdown",
      "metadata": {
        "id": "47pufSJyHr75"
      },
      "source": [
        "# **經濟實證與預測三_ Homework 1**\n",
        "**Link:** "
      ]
    },
    {
      "cell_type": "markdown",
      "metadata": {
        "id": "dFqUUs2XHyKb"
      },
      "source": [
        "**吳金擇, P09323028**"
      ]
    },
    {
      "cell_type": "markdown",
      "metadata": {
        "id": "tDFKCXdAQ4FS"
      },
      "source": [
        "# **E6.2**\n",
        "Using the data set **Growth** described in Empirical Exercise E4.1, but excluding\n",
        "the data for Malta, carry out the following exercises.\n",
        "1. Construct a table that shows the sample mean, standard deviation,\n",
        "and minimum and maximum values for the series $Growth, TradeShare, YearsSchool, Oil, Rev\\_Coups, Assassinations$, and $RGDP60$. Include the\n",
        "appropriate units for all entries.\n",
        "2. Run a regression of *Growth* on *TradeShare*, *YearsSchool*, *Rev_Coups*, *Assassinations*, and *RGDP60*. What is the value of the coefficient on *Rev_Coups*? Interpret the value of this coefficient. Is it large or small in\n",
        "a real-world sense?\n",
        "3. Use the regression to predict the average annual growth rate for a\n",
        "country that has average values for all regressors.\n",
        "4. Repeat (c), but now assume that the country’s value for *TradeShare* is\n",
        "one standard deviation above the mean.\n",
        "5. Why is *Oil* omitted from the regression? What would happen if it were\n",
        "included?\n",
        "---\n",
        "\n"
      ]
    },
    {
      "cell_type": "code",
      "metadata": {
        "id": "fKhQY2CtRZYB"
      },
      "source": [
        "import numpy as np\n",
        "import pandas as pd\n",
        "import statsmodels.formula.api as smf"
      ],
      "execution_count": null,
      "outputs": []
    },
    {
      "cell_type": "code",
      "metadata": {
        "id": "ozRV7ekhRv12"
      },
      "source": [
        "!gdown --id '19BX1Ksfn7gCJsQ4vjMbzgz3jj4_sEWq3' --output growth.xlsx"
      ],
      "execution_count": null,
      "outputs": []
    },
    {
      "cell_type": "code",
      "metadata": {
        "id": "ygKQJX0DRwAR",
        "colab": {
          "base_uri": "https://localhost:8080/",
          "height": 359
        },
        "outputId": "b238917f-338b-4aed-c959-0adbac655d4b"
      },
      "source": [
        "growth = pd.read_excel('growth.xlsx')\n",
        "growth = growth[growth['country_name'] != 'Malta']\n",
        "growth.head(10)"
      ],
      "execution_count": null,
      "outputs": [
        {
          "output_type": "execute_result",
          "data": {
            "text/html": [
              "<div>\n",
              "<style scoped>\n",
              "    .dataframe tbody tr th:only-of-type {\n",
              "        vertical-align: middle;\n",
              "    }\n",
              "\n",
              "    .dataframe tbody tr th {\n",
              "        vertical-align: top;\n",
              "    }\n",
              "\n",
              "    .dataframe thead th {\n",
              "        text-align: right;\n",
              "    }\n",
              "</style>\n",
              "<table border=\"1\" class=\"dataframe\">\n",
              "  <thead>\n",
              "    <tr style=\"text-align: right;\">\n",
              "      <th></th>\n",
              "      <th>country_name</th>\n",
              "      <th>growth</th>\n",
              "      <th>oil</th>\n",
              "      <th>rgdp60</th>\n",
              "      <th>tradeshare</th>\n",
              "      <th>yearsschool</th>\n",
              "      <th>rev_coups</th>\n",
              "      <th>assasinations</th>\n",
              "    </tr>\n",
              "  </thead>\n",
              "  <tbody>\n",
              "    <tr>\n",
              "      <th>0</th>\n",
              "      <td>India</td>\n",
              "      <td>1.915168</td>\n",
              "      <td>0</td>\n",
              "      <td>765.999817</td>\n",
              "      <td>0.140502</td>\n",
              "      <td>1.45</td>\n",
              "      <td>0.133333</td>\n",
              "      <td>0.866667</td>\n",
              "    </tr>\n",
              "    <tr>\n",
              "      <th>1</th>\n",
              "      <td>Argentina</td>\n",
              "      <td>0.617645</td>\n",
              "      <td>0</td>\n",
              "      <td>4462.001465</td>\n",
              "      <td>0.156623</td>\n",
              "      <td>4.99</td>\n",
              "      <td>0.933333</td>\n",
              "      <td>1.933333</td>\n",
              "    </tr>\n",
              "    <tr>\n",
              "      <th>2</th>\n",
              "      <td>Japan</td>\n",
              "      <td>4.304759</td>\n",
              "      <td>0</td>\n",
              "      <td>2953.999512</td>\n",
              "      <td>0.157703</td>\n",
              "      <td>6.71</td>\n",
              "      <td>0.000000</td>\n",
              "      <td>0.200000</td>\n",
              "    </tr>\n",
              "    <tr>\n",
              "      <th>3</th>\n",
              "      <td>Brazil</td>\n",
              "      <td>2.930097</td>\n",
              "      <td>0</td>\n",
              "      <td>1783.999878</td>\n",
              "      <td>0.160405</td>\n",
              "      <td>2.89</td>\n",
              "      <td>0.100000</td>\n",
              "      <td>0.100000</td>\n",
              "    </tr>\n",
              "    <tr>\n",
              "      <th>4</th>\n",
              "      <td>United States</td>\n",
              "      <td>1.712265</td>\n",
              "      <td>0</td>\n",
              "      <td>9895.003906</td>\n",
              "      <td>0.160815</td>\n",
              "      <td>8.66</td>\n",
              "      <td>0.000000</td>\n",
              "      <td>0.433333</td>\n",
              "    </tr>\n",
              "    <tr>\n",
              "      <th>5</th>\n",
              "      <td>Bangladesh</td>\n",
              "      <td>0.708263</td>\n",
              "      <td>0</td>\n",
              "      <td>951.999817</td>\n",
              "      <td>0.221458</td>\n",
              "      <td>0.79</td>\n",
              "      <td>0.306481</td>\n",
              "      <td>0.175000</td>\n",
              "    </tr>\n",
              "    <tr>\n",
              "      <th>6</th>\n",
              "      <td>Spain</td>\n",
              "      <td>2.880327</td>\n",
              "      <td>0</td>\n",
              "      <td>3123.001465</td>\n",
              "      <td>0.299406</td>\n",
              "      <td>3.80</td>\n",
              "      <td>0.066667</td>\n",
              "      <td>1.433333</td>\n",
              "    </tr>\n",
              "    <tr>\n",
              "      <th>7</th>\n",
              "      <td>Colombia</td>\n",
              "      <td>2.227014</td>\n",
              "      <td>0</td>\n",
              "      <td>1684.000366</td>\n",
              "      <td>0.313073</td>\n",
              "      <td>2.97</td>\n",
              "      <td>0.100000</td>\n",
              "      <td>0.766667</td>\n",
              "    </tr>\n",
              "    <tr>\n",
              "      <th>8</th>\n",
              "      <td>Peru</td>\n",
              "      <td>0.060206</td>\n",
              "      <td>0</td>\n",
              "      <td>2019.000244</td>\n",
              "      <td>0.324613</td>\n",
              "      <td>3.02</td>\n",
              "      <td>0.266667</td>\n",
              "      <td>0.566667</td>\n",
              "    </tr>\n",
              "    <tr>\n",
              "      <th>9</th>\n",
              "      <td>Haiti</td>\n",
              "      <td>-0.657934</td>\n",
              "      <td>0</td>\n",
              "      <td>923.999939</td>\n",
              "      <td>0.324746</td>\n",
              "      <td>0.70</td>\n",
              "      <td>0.374074</td>\n",
              "      <td>0.200000</td>\n",
              "    </tr>\n",
              "  </tbody>\n",
              "</table>\n",
              "</div>"
            ],
            "text/plain": [
              "    country_name    growth  oil  ...  yearsschool  rev_coups  assasinations\n",
              "0          India  1.915168    0  ...         1.45   0.133333       0.866667\n",
              "1      Argentina  0.617645    0  ...         4.99   0.933333       1.933333\n",
              "2          Japan  4.304759    0  ...         6.71   0.000000       0.200000\n",
              "3         Brazil  2.930097    0  ...         2.89   0.100000       0.100000\n",
              "4  United States  1.712265    0  ...         8.66   0.000000       0.433333\n",
              "5     Bangladesh  0.708263    0  ...         0.79   0.306481       0.175000\n",
              "6          Spain  2.880327    0  ...         3.80   0.066667       1.433333\n",
              "7       Colombia  2.227014    0  ...         2.97   0.100000       0.766667\n",
              "8           Peru  0.060206    0  ...         3.02   0.266667       0.566667\n",
              "9          Haiti -0.657934    0  ...         0.70   0.374074       0.200000\n",
              "\n",
              "[10 rows x 8 columns]"
            ]
          },
          "metadata": {},
          "execution_count": 3
        }
      ]
    },
    {
      "cell_type": "markdown",
      "metadata": {
        "id": "iJpOpU0NXBxR"
      },
      "source": [
        "## E6.2-1"
      ]
    },
    {
      "cell_type": "code",
      "metadata": {
        "colab": {
          "base_uri": "https://localhost:8080/",
          "height": 266
        },
        "id": "0DjnQdiQSZ9T",
        "outputId": "a12d4918-fb83-472d-adbc-1f28e14df291"
      },
      "source": [
        "desc_table = growth.describe().loc[['mean', 'std', 'min', 'max'],:]\n",
        "desc_table.columns = ['growth(%)', 'oil(Dummy Variable)', 'rgdp60(1960 US dollars)', 'tradeshare(%)', 'yearsschool(Average annual number of years)', 'rev_coups(Average annual number of revolutions)',\n",
        "       'assasinations(Average annual number of political assassinations)']\n",
        "desc_table.index = ['mean', 'std(no unit)', 'min', 'max']\n",
        "desc_table.transpose()"
      ],
      "execution_count": null,
      "outputs": [
        {
          "output_type": "execute_result",
          "data": {
            "text/html": [
              "<div>\n",
              "<style scoped>\n",
              "    .dataframe tbody tr th:only-of-type {\n",
              "        vertical-align: middle;\n",
              "    }\n",
              "\n",
              "    .dataframe tbody tr th {\n",
              "        vertical-align: top;\n",
              "    }\n",
              "\n",
              "    .dataframe thead th {\n",
              "        text-align: right;\n",
              "    }\n",
              "</style>\n",
              "<table border=\"1\" class=\"dataframe\">\n",
              "  <thead>\n",
              "    <tr style=\"text-align: right;\">\n",
              "      <th></th>\n",
              "      <th>mean</th>\n",
              "      <th>std(no unit)</th>\n",
              "      <th>min</th>\n",
              "      <th>max</th>\n",
              "    </tr>\n",
              "  </thead>\n",
              "  <tbody>\n",
              "    <tr>\n",
              "      <th>growth(%)</th>\n",
              "      <td>1.869120</td>\n",
              "      <td>1.816189</td>\n",
              "      <td>-2.811944</td>\n",
              "      <td>7.156855</td>\n",
              "    </tr>\n",
              "    <tr>\n",
              "      <th>oil(Dummy Variable)</th>\n",
              "      <td>0.000000</td>\n",
              "      <td>0.000000</td>\n",
              "      <td>0.000000</td>\n",
              "      <td>0.000000</td>\n",
              "    </tr>\n",
              "    <tr>\n",
              "      <th>rgdp60(1960 US dollars)</th>\n",
              "      <td>3130.812534</td>\n",
              "      <td>2522.978637</td>\n",
              "      <td>366.999939</td>\n",
              "      <td>9895.003906</td>\n",
              "    </tr>\n",
              "    <tr>\n",
              "      <th>tradeshare(%)</th>\n",
              "      <td>0.542392</td>\n",
              "      <td>0.228333</td>\n",
              "      <td>0.140502</td>\n",
              "      <td>1.127937</td>\n",
              "    </tr>\n",
              "    <tr>\n",
              "      <th>yearsschool(Average annual number of years)</th>\n",
              "      <td>3.959219</td>\n",
              "      <td>2.553465</td>\n",
              "      <td>0.200000</td>\n",
              "      <td>10.070000</td>\n",
              "    </tr>\n",
              "    <tr>\n",
              "      <th>rev_coups(Average annual number of revolutions)</th>\n",
              "      <td>0.170067</td>\n",
              "      <td>0.225456</td>\n",
              "      <td>0.000000</td>\n",
              "      <td>0.970370</td>\n",
              "    </tr>\n",
              "    <tr>\n",
              "      <th>assasinations(Average annual number of political assassinations)</th>\n",
              "      <td>0.281901</td>\n",
              "      <td>0.494159</td>\n",
              "      <td>0.000000</td>\n",
              "      <td>2.466667</td>\n",
              "    </tr>\n",
              "  </tbody>\n",
              "</table>\n",
              "</div>"
            ],
            "text/plain": [
              "                                                           mean  ...          max\n",
              "growth(%)                                              1.869120  ...     7.156855\n",
              "oil(Dummy Variable)                                    0.000000  ...     0.000000\n",
              "rgdp60(1960 US dollars)                             3130.812534  ...  9895.003906\n",
              "tradeshare(%)                                          0.542392  ...     1.127937\n",
              "yearsschool(Average annual number of years)            3.959219  ...    10.070000\n",
              "rev_coups(Average annual number of revolutions)        0.170067  ...     0.970370\n",
              "assasinations(Average annual number of politica...     0.281901  ...     2.466667\n",
              "\n",
              "[7 rows x 4 columns]"
            ]
          },
          "metadata": {},
          "execution_count": 4
        }
      ]
    },
    {
      "cell_type": "code",
      "metadata": {
        "id": "XPOvx23dI8MX"
      },
      "source": [
        ""
      ],
      "execution_count": null,
      "outputs": []
    },
    {
      "cell_type": "markdown",
      "metadata": {
        "id": "GM5pNvElYXBO"
      },
      "source": [
        "## E6.2-2"
      ]
    },
    {
      "cell_type": "code",
      "metadata": {
        "colab": {
          "base_uri": "https://localhost:8080/"
        },
        "id": "Wq1vsWYnb7X_",
        "outputId": "d65431ca-2e68-46a9-9073-5f288f4414ec"
      },
      "source": [
        "formula= 'growth~tradeshare+yearsschool+rev_coups+assasinations+rgdp60'\n",
        "reg_6_2 = smf.ols(formula=formula, data=growth)\n",
        "result_6_2 = reg_6_2.fit(cov_type='HC1', use_t=True)\n",
        "print(result_6_2.summary())"
      ],
      "execution_count": null,
      "outputs": [
        {
          "output_type": "stream",
          "name": "stdout",
          "text": [
            "                            OLS Regression Results                            \n",
            "==============================================================================\n",
            "Dep. Variable:                 growth   R-squared:                       0.291\n",
            "Model:                            OLS   Adj. R-squared:                  0.230\n",
            "Method:                 Least Squares   F-statistic:                     7.001\n",
            "Date:                Thu, 16 Sep 2021   Prob (F-statistic):           3.54e-05\n",
            "Time:                        01:12:38   Log-Likelihood:                -117.49\n",
            "No. Observations:                  64   AIC:                             247.0\n",
            "Df Residuals:                      58   BIC:                             259.9\n",
            "Df Model:                           5                                         \n",
            "Covariance Type:                  HC1                                         \n",
            "=================================================================================\n",
            "                    coef    std err          t      P>|t|      [0.025      0.975]\n",
            "---------------------------------------------------------------------------------\n",
            "Intercept         0.6269      0.869      0.721      0.474      -1.113       2.367\n",
            "tradeshare        1.3408      0.882      1.520      0.134      -0.425       3.106\n",
            "yearsschool       0.5642      0.129      4.357      0.000       0.305       0.823\n",
            "rev_coups        -2.1504      0.875     -2.459      0.017      -3.901      -0.400\n",
            "assasinations     0.3226      0.380      0.848      0.400      -0.439       1.084\n",
            "rgdp60           -0.0005      0.000     -3.797      0.000      -0.001      -0.000\n",
            "==============================================================================\n",
            "Omnibus:                        7.569   Durbin-Watson:                   2.130\n",
            "Prob(Omnibus):                  0.023   Jarque-Bera (JB):                8.597\n",
            "Skew:                           0.494   Prob(JB):                       0.0136\n",
            "Kurtosis:                       4.499   Cond. No.                     2.59e+04\n",
            "==============================================================================\n",
            "\n",
            "Warnings:\n",
            "[1] Standard Errors are heteroscedasticity robust (HC1)\n",
            "[2] The condition number is large, 2.59e+04. This might indicate that there are\n",
            "strong multicollinearity or other numerical problems.\n"
          ]
        }
      ]
    },
    {
      "cell_type": "markdown",
      "metadata": {
        "id": "7XsvHAjudZs4"
      },
      "source": [
        "The value of the coefficient on *Rev_Coups* is $-2.15$\n",
        "\n",
        "若政變次數增加 $1$次，平均而言，平均年GDP成長率將下降 $2.15$ 個百分點。\n",
        "\n",
        "2020年台灣GDP成長率 $3.11\\%$, so it is large in a real-world sense."
      ]
    },
    {
      "cell_type": "markdown",
      "metadata": {
        "id": "hovYjEOFcDR1"
      },
      "source": [
        "## E6.2-3"
      ]
    },
    {
      "cell_type": "code",
      "metadata": {
        "id": "RmnOuugcOZeo"
      },
      "source": [
        "x_mean = growth.mean()[[3,4,5,6,2]]\n",
        "result_6_2.predict(exog=x_mean)"
      ],
      "execution_count": null,
      "outputs": []
    },
    {
      "cell_type": "markdown",
      "metadata": {
        "id": "IcfFaUFOQQZG"
      },
      "source": [
        "The average annual growth rate is $1.87\\%$"
      ]
    },
    {
      "cell_type": "markdown",
      "metadata": {
        "id": "VyEOC789hpFF"
      },
      "source": [
        "## E6.2-4"
      ]
    },
    {
      "cell_type": "code",
      "metadata": {
        "id": "0MUsNdHslTOA"
      },
      "source": [
        "addition = np.array([growth.std()['tradeshare'], 0, 0, 0, 0])\n",
        "result_6_2.predict(exog=x_mean+addition)"
      ],
      "execution_count": null,
      "outputs": []
    },
    {
      "cell_type": "markdown",
      "metadata": {
        "id": "YbxvpjR9Rmux"
      },
      "source": [
        "The average annual growth rate is $2.175\\%$"
      ]
    },
    {
      "cell_type": "markdown",
      "metadata": {
        "id": "VaDjc67jR1Pb"
      },
      "source": [
        "## E6.2-5"
      ]
    },
    {
      "cell_type": "markdown",
      "metadata": {
        "id": "7mhqjxiXR3L3"
      },
      "source": [
        "由於 *Oil* 資料皆為 0 ，\n",
        "\n",
        "若放入迴歸式，將與常數項產生共線性問題，\n",
        "\n",
        "導致估計出現偏誤。"
      ]
    }
  ]
}